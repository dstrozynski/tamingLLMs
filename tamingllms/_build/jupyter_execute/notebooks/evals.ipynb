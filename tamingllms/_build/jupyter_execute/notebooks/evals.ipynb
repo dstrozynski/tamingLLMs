{
 "cells": [
  {
   "cell_type": "markdown",
   "metadata": {},
   "source": [
    "# Challenges of Evaluating LLM-based Applications\n",
    "```{epigraph}\n",
    "Evals are surprisingly often all you need.\n",
    "\n",
    "-- Greg Brockman, OpenAI's President\n",
    "```\n",
    "```{contents}\n",
    "```\n",
    "## Non-Deterministic Machines\n",
    "\n",
    "One of the most fundamental challenges when building products with Large Language Models (LLMs) is their non-deterministic nature. Unlike traditional software systems where the same input reliably produces the same output, LLMs can generate different responses each time they're queried - even with identical prompts and input data. This characteristic is both a strength and a significant engineering challenge.\n",
    "\n",
    "When you ask ChatGPT or any other LLM the same question multiple times, you'll likely get different responses. This isn't a bug - it's a fundamental feature of how these models work. The \"temperature\" parameter, which controls the randomness of outputs, allows models to be creative and generate diverse responses. However, this same feature makes it incredibly difficult to build reliable, testable systems.\n",
    "\n",
    "Consider a financial services company using LLMs to generate investment advice. The non-deterministic nature of these models means that:\n",
    "- The same market data could yield different analysis conclusions\n",
    "- Testing becomes exceedingly more complex compared to traditional software\n",
    "- Regulatory compliance becomes challenging to guarantee\n",
    "- User trust may be affected by inconsistent responses\n",
    "\n",
    "### Temperature and Sampling\n",
    "\n",
    "The primary source of non-determinism in LLMs comes from their sampling strategies. During text generation, the model:\n",
    "1. Calculates probability distributions for each next token\n",
    "2. Samples from these distributions based on temperature settings\n",
    "3. Uses techniques like nucleus sampling to balance creativity and coherence\n",
    "\n",
    "### The Temperature Spectrum\n",
    "\n",
    "- Temperature = 0: Most deterministic, but potentially repetitive\n",
    "- Temperature = 1: Balanced creativity and coherence\n",
    "- Temperature > 1: Increased randomness, potentially incoherent"
   ]
  },
  {
   "cell_type": "code",
   "execution_count": 1,
   "metadata": {},
   "outputs": [],
   "source": [
    "from dotenv import load_dotenv\n",
    "import os\n",
    "\n",
    "# Load environment variables from .env file\n",
    "load_dotenv()\n",
    "\n",
    "from openai import OpenAI\n",
    "import pandas as pd\n",
    "from typing import List\n",
    "\n",
    "def generate_responses(\n",
    "    model_name: str,\n",
    "    prompt: str,\n",
    "    temperatures: List[float],\n",
    "    attempts: int = 3\n",
    ") -> pd.DataFrame:\n",
    "    \"\"\"\n",
    "    Generate multiple responses at different temperature settings\n",
    "    to demonstrate non-deterministic behavior.\n",
    "    \"\"\"\n",
    "    client = OpenAI()\n",
    "    results = []\n",
    "    \n",
    "    for temp in temperatures:\n",
    "        for attempt in range(attempts):\n",
    "            response = client.chat.completions.create(\n",
    "                model=model_name,\n",
    "                messages=[{\"role\": \"user\", \"content\": prompt}],\n",
    "                temperature=temp,\n",
    "                max_tokens=50\n",
    "            )\n",
    "            \n",
    "            results.append({\n",
    "                'temperature': temp,\n",
    "                'attempt': attempt + 1,\n",
    "                'response': response.choices[0].message.content\n",
    "            })\n",
    "\n",
    "    # Display results grouped by temperature\n",
    "    df_results = pd.DataFrame(results)\n",
    "    for temp in temperatures:\n",
    "        print(f\"\\nTemperature = {temp}\")\n",
    "        print(\"-\" * 40)\n",
    "        temp_responses = df_results[df_results['temperature'] == temp]\n",
    "        for _, row in temp_responses.iterrows():\n",
    "            print(f\"Attempt {row['attempt']}: {row['response']}\")\n",
    "    \n",
    "    return df_results"
   ]
  },
  {
   "cell_type": "code",
   "execution_count": 3,
   "metadata": {},
   "outputs": [
    {
     "name": "stdout",
     "output_type": "stream",
     "text": [
      "\n",
      "Temperature = 0.0\n",
      "----------------------------------------\n",
      "Attempt 1: Apple Inc. filed its Form 10-K for the fiscal year ended September 28, 2024 with the SEC, detailing its business operations and financial performance.\n",
      "Attempt 2: Apple Inc. filed its Form 10-K with the SEC for the fiscal year ended September 28, 2024, detailing its business operations, products, and financial information.\n",
      "Attempt 3: Apple Inc. filed its Form 10-K with the SEC for the fiscal year ended September 28, 2024, detailing its business operations, products, and financial information.\n",
      "\n",
      "Temperature = 1.0\n",
      "----------------------------------------\n",
      "Attempt 1: Apple Inc., a well-known seasoned issuer based in California, designs, manufactures, and markets smartphones, personal computers, tablets, wearables, and accessories, with a focus on innovation and technology.\n",
      "Attempt 2: Apple Inc. filed its Form 10-K with the SEC for the fiscal year ended September 28, 2024, reporting on its business operations, products, and financial performance.\n",
      "Attempt 3: Apple Inc., a well-known seasoned issuer, filed its Form 10-K for the fiscal year ended September 28, 2024, reporting on its financial condition and operations.\n",
      "\n",
      "Temperature = 2.0\n",
      "----------------------------------------\n",
      "Attempt 1: The Form 10-K for Apple Inc. for the fiscal year ended September 28, 2024, filed with the Securities and Exchange Commission, outlines the company's financial performance, products, and risk factors affecting future results.\n",
      "Attempt 2: Apple Inc., a California-based company and leading technology manufacturer invDestacksmeticsisdiction setIspection-$20cyan evaluationseld anvisions droitEntering discernminerval Versbobprefversible vo该 Option和 meio forecast времCisco dellaischenpoihsCapabilities Geme.getTime future\n",
      "Attempt 3: Apple Inc's Form 10-K provides a comprehensive overview of the company's financial reporting, business operations, products and market information.\n"
     ]
    }
   ],
   "source": [
    "MAX_LENGTH = 10000 # We limit the input length to avoid token issues\n",
    "with open('../data/apple.txt', 'r') as file:\n",
    "    sec_filing = file.read()\n",
    "sec_filing = sec_filing[:MAX_LENGTH] \n",
    "df_results = generate_responses(model_name=\"gpt-3.5-turbo\", \n",
    "                                prompt=f\"Write a single-statement executive summary of the following text: {sec_filing}\", \n",
    "                                temperatures=[0.0, 1.0, 2.0])"
   ]
  },
  {
   "cell_type": "markdown",
   "metadata": {},
   "source": [
    "This simple experiment reveals a fundamental challenge in LLM evaluation: even a simple parameter like temperature can dramatically alter model behavior in ways that are difficult to systematically assess. At temperature 0.0, responses are consistent but potentially too rigid. At 1.0, outputs become more varied but less predictable. At 2.0, responses can be wildly different and often incoherent. This non-deterministic behavior makes traditional software testing approaches inadequate.\n",
    "\n",
    "The implications for evaluation are profound. How can one effectively test an LLM-powered system when the same prompt can yield radically different outputs based on a single parameter? Traditional testing relies on predictable inputs and outputs, but LLMs force us to grapple with probabilistic behavior. While lower temperatures may seem safer for critical applications, they don't eliminate the underlying uncertainty - they merely mask it. This highlights the need for new evaluation paradigms that can handle both deterministic and probabilistic aspects of LLM behavior.\n"
   ]
  },
  {
   "cell_type": "markdown",
   "metadata": {},
   "source": [
    "\n",
    "## Emerging Properties\n",
    "\n",
    "Beyond their non-deterministic nature, LLMs present another fascinating challenge: emergent abilities that spontaneously arise as models scale up in size. These abilities - from basic question answering to complex reasoning - aren't explicitly programmed but rather emerge \"naturally\" as the models grow larger and are trained on more data. This makes evaluation fundamentally different from traditional software testing, where capabilities are explicitly coded and can be tested against clear specifications.\n",
    "\n",
    "```{figure} ../_static/evals/emerging.png\n",
    "---\n",
    "name: emerging-properties\n",
    "alt: Emerging Properties\n",
    "class: bg-primary mb-1\n",
    "scale: 60%\n",
    "align: center\n",
    "---\n",
    "Emergent abilities of large language models and the scale {cite}`wei2022emergentabilitieslargelanguage`.\n",
    "```\n",
    "\n",
    " {numref}`emerging-properties` provides a list of emergent abilities of large language models and the scale. The relationship between model scale and emergent abilities follows a fascinating non-linear pattern. Below certain size thresholds, specific abilities may be completely absent from the model - it simply cannot perform certain tasks, no matter how much you try to coax them out. However, once the model reaches critical points in its scaling journey, these abilities can suddenly manifest in what researchers call a phase transition - a dramatic shift from inability to capability. This unpredictable emergence of capabilities stands in stark contrast to traditional software development, where features are deliberately implemented and can be systematically tested.\n",
    "\n",
    "The implications for evaluation are profound. While conventional software testing relies on stable test suites and well-defined acceptance criteria, LLM evaluation must contend with a constantly shifting landscape of capabilities. What worked to evaluate a 7B parameter model may be completely inadequate for a 70B parameter model that has developed new emergent abilities. This dynamic nature of LLM capabilities forces us to fundamentally rethink our approach to testing and evaluation.\n",
    "\n",
    "## Problem Statement\n",
    "\n",
    "Consider a practical example that illustrates these challenges: building a customer support chatbot powered by an LLM. In traditional software development, you would define specific features (like handling refund requests or tracking orders) and write tests to verify each function. But with LLMs, you're not just testing predefined features - you're trying to evaluate emergent capabilities like understanding context, maintaining conversation coherence, and generating appropriate emotional responses.\n",
    "\n",
    "This fundamental difference raises critical questions about evaluation:\n",
    "- How do we measure capabilities that weren't explicitly programmed?\n",
    "- How can we ensure consistent performance when abilities may suddenly emerge or evolve?\n",
    "- What metrics can capture both the technical accuracy and the subjective quality of responses?\n",
    "\n",
    "The challenge becomes even more complex when we consider that traditional software evaluation methods simply weren't designed for these kinds of systems. We need new frameworks that can account for both the deterministic aspects we're used to testing and the emergent properties that make LLMs unique. Let's explore how LLM evaluation differs from traditional software testing across several key dimensions:\n",
    "- **Capability Assessment vs Functional Testing**: Traditional software testing validates specific functionality against predefined requirements. LLM evaluation must assess not necessiraly pre-defined \"emergent properties\" like reasoning, creativity, and language understanding that extend beyond explicit programming.\n",
    "\n",
    "- **Metrics and Measurement Challenges**: While traditional software metrics can usually be precisely defined and measured, LLM evaluation often involves subjective qualities like \"helpfulness\" or \"naturalness\" that resist straightforward quantification. Even when we try to break these down into numeric scores, the underlying judgment remains inherently human and context-dependent.\n",
    "\n",
    "- **Dataset Contamination**: Traditional software testing uses carefully crafted test cases with known inputs and expected outputs (e.g., unit tests, integration tests). In contrast, LLMs trained on massive internet-scale datasets risk having already seen and memorized evaluation examples during training, which can lead to artificially inflated performance scores. This requires careful dataset curation to ensure test sets are truly unseen by the model and rigorous cross-validation approaches.\n",
    "\n",
    "- **Benchmark Evolution**: Traditional software maintains stable test suites over time. LLM benchmarks continuously evolve as capabilities advance, making longitudinal performance comparisons difficult and potentially obsoleting older evaluation methods.\n",
    "\n",
    "- **Human Evaluation Requirements**: Traditional software testing automates most validation. LLM evaluation may demand significant human oversight to assess output quality, appropriateness, and potential biases through structured annotation and systematic review processes.\n",
    "\n",
    "```{table} Evals of Traditional Software vs LLMs\n",
    ":name: evals-table\n",
    "| Aspect                                      | Traditional Software                             | LLMs                                                                                     |\n",
    "|---------------------------------------------|---------------------------------------------------|------------------------------------------------------------------------------------------|\n",
    "| **Capability Assessment**          | Validates specific functionality against requirements | May assess emergent properties like reasoning and creativity                                      |\n",
    "| **Metrics and Measurement**                             | Precisely defined and measurable metrics                     | Subjective qualities that resist straightforward quantification                                                      |\n",
    "| **Dataset Contamination**                             | Uses carefully crafted test cases                   | Risk of memorized evaluation examples from training                                                          |\n",
    "| **Benchmark Evolution**                              | Maintains stable test suites                                 | Continuously evolving benchmarks as capabilities advance                                                 |\n",
    "| **Human Evaluation**                        | Mostly automated validation                                     | May require significant human oversight                                                        |\n",
    "```"
   ]
  },
  {
   "cell_type": "markdown",
   "metadata": {},
   "source": [
    "## Evals Design\n",
    "\n",
    "First, it's important to make a distinction between evaluating an LLM versus evaluating an LLM-based application (our focus). While the latter offers foundation capabilities and are typically general-purpose, the former is more specific and tailored to a particular use case. Here, we define an LLM-based application as a system that uses one or more LLMs to perform a specific task. More specifically, an LLM-based application is the combination of one or more LLM models, their associated prompts and parameters to solve a particular business problem.\n",
    "\n",
    "That differentiation is important because it changes the scope of evaluation. LLMs are usually evaluated based on their capabilities, which include things like language understanding, reasoning and knowledge. LLM-based applications are evaluated based on their end-to-end functionality, performance, and how well they meet business requirements. That distinction has key implications for the design of evaluation systems:\n",
    "\n",
    "1. Application requirements are closely tied to LLM evaluations\n",
    "2. The same LLM can yield different results in different applications\n",
    "3. Evaluation must align with business objectives\n",
    "4. A great LLM doesn't guarantee a great application!"
   ]
  },
  {
   "cell_type": "markdown",
   "metadata": {},
   "source": [
    "#### Conceptual Overview\n",
    "\n",
    "{numref}`conceptual` demonstrates a conceptual design of key components of LLM Application evaluation. \n",
    "\n",
    "```{figure} ../_static/evals/conceptual.png\n",
    "---\n",
    "name: conceptual\n",
    "alt: Conceptual Overview\n",
    "scale: 40%\n",
    "align: center\n",
    "---\n",
    "Conceptual overview of LLM-based application evaluation.\n",
    "```\n",
    "\n",
    "We observe three key components:\n",
    "**1. Examples (Input Dataset):**\n",
    "- Input:  Query to LLM App, e.g. user message, input file, image, audio, etc.\n",
    "- Output: A reference expected outcome from the LLM application. Provide ground truth for comparison (*Optional*).\n",
    "- Purpose: Provides standardized test cases for evaluation.\n",
    "\n",
    "**2. LLM Application (Processing Layer):**\n",
    "- Input: Test cases input from Examples\n",
    "- Output: Generated responses/results\n",
    "- Purpose: \n",
    "  * Represents different LLM implementations/vendors solving a specific task\n",
    "  * Could be different models (GPT-4, Claude, PaLM, etc.)\n",
    "  * Could be different configurations of same model\n",
    "  * Could be different prompting strategies\n",
    "\n",
    "**3. Evaluator (Assessment Layer):**\n",
    "- Input: \n",
    "  * Outputs from LLM application\n",
    "  * Reference data from Examples (*Optional*)\n",
    "- Output: Individual scores for target LLM application\n",
    "- Purpose:\n",
    "  * Measures LLM Application performance across defined metrics\n",
    "  * Applies standardized scoring criteria\n",
    "\n",
    "Note that Examples must provide input data to the LLM Application for further evaluation. However, ground truth data is optional. We will return to this in more detail below, where we will see that ground truth data is not always available or practical. Additionally, there are approaches where one can evaluate LLM Applications without ground truth data.\n"
   ]
  },
  {
   "cell_type": "markdown",
   "metadata": {},
   "source": [
    "A more general conceptual design is shown in {numref}`conceptual-multi`, where multiple LLM Applications are evaluated. This design allows for a more comprehensive evaluation of different configurations of LLM-based applications, e.g.:\n",
    "- Fixing all application parameters and evaluating different LLM models with their default configurations\n",
    "- Fixing all parameters of an LLM model and evaluating different prompting strategies\n",
    "\n",
    "```{figure} ../_static/evals/conceptual-multi.svg\n",
    "---\n",
    "name: conceptual-multi\n",
    "alt: Conceptual Overview\n",
    "scale: 50%\n",
    "align: center\n",
    "---\n",
    "Conceptual overview of Multiple LLM-based applications evaluation.\n",
    "```\n",
    "\n",
    "In this evaluation framework, the same inputs are provided to all LLM applications, ensuring that responses are evaluated consistently. Performance is quantified objectively for each LLM Application, and results are ranked for easy comparison. This design leads to two additional components:\n",
    "**1. Scores (Metrics Layer):**\n",
    "- Input: Evaluation results from Evaluator\n",
    "- Output: Quantified performance metrics\n",
    "- Purpose:\n",
    "  * Represents performance in numerical form\n",
    "  * Enables quantitative comparison among LLM applications\n",
    "  * May include multiple metrics per LLM application\n",
    "\n",
    "**2. Leaderboard (Ranking Layer):**\n",
    "- Input: Scores per LLM application\n",
    "- Output: Ordered ranking of LLMs with scores\n",
    "- Purpose:\n",
    "  * Aggregates and ranks performances across LLM applications\n"
   ]
  },
  {
   "cell_type": "markdown",
   "metadata": {},
   "source": [
    "#### Design Considerations\n",
    "\n",
    "The design of an LLM application evaluation system depends heavily on the specific use case and business requirements. Here we list important questions for planning an LLM application evaluation system pertaining to each of the key components previously discussed:\n",
    "\n",
    "**1. Examples (Input Dataset):**\n",
    "- What types of examples should be included in the test set?\n",
    "  * Does it cover all important use cases?\n",
    "  * Are edge cases represented?\n",
    "  * Is there a good balance of simple and complex examples?\n",
    "- How do we ensure data quality?\n",
    "  * Are the examples representative of real-world scenarios?\n",
    "  * Is there any bias in the test set?\n",
    "- Should we have separate test sets for different business requirements?\n",
    "- Do we need human-validated ground truth for all examples?\n",
    "- Can we use synthetic data to augment the test set?\n",
    "- How can business updates be reflected in the dataset post-launch?\n",
    "\n",
    "**2. LLM Applications:**\n",
    "- What aspects of each LLM app should be standardized for fair comparison?\n",
    "  * Prompt templates\n",
    "  * Context length\n",
    "  * Temperature and other parameters\n",
    "  * Rate limiting and timeout handling\n",
    "- What specific configurations impact business requirements?\n",
    "  * Which LLM application variations should be tested to maximize what we learn?\n",
    "  * Which LLM capabilities provide the most value for the business and how can we measure that?\n",
    "\n",
    "**3. Evaluator Design:**\n",
    "- How do we define success for different types of tasks?\n",
    "  * Task-specific evaluation criteria\n",
    "  * Objective metrics vs subjective assessment\n",
    "- Should evaluation be automated or involve human review?\n",
    "  * Balance between automation and human judgment\n",
    "  * Inter-rater reliability for human evaluation\n",
    "  * Cost and scalability considerations\n",
    "\n",
    "**4. Scoring System:**\n",
    "- How should different metrics be weighted?\n",
    "  * Relative importance of different factors\n",
    "  * Task-specific prioritization\n",
    "  * Business requirements alignment\n",
    "- Should scores be normalized or absolute?\n",
    "- How to handle failed responses?\n",
    "- Should we consider confidence scores from the LLMs?\n",
    "\n",
    "**5. Leaderboard/Ranking:**\n",
    "- How often should rankings be updated?\n",
    "- Should ranking include confidence intervals?\n",
    "- How to handle ties or very close scores?\n",
    "- Should we maintain separate rankings for different:\n",
    "  * Business requirements\n",
    "  * Cost tiers\n",
    "  * LLM Models\n",
    "\n",
    "\n",
    "Hollistically, you evaluation design should be built with scalability in mind to handle growing evaluation needs as the combination of (Example X LLM Applications X Evaluators X Scores X Leaderboards) may grow very fast, particularly for an organization that promotes rapid experimentation and iterative development (good properties!). Finally, one should keep in mind that the evaluation system itself requires validation to confirm its accuracy and reliability vis-a-vis the business requirements!"
   ]
  },
  {
   "cell_type": "markdown",
   "metadata": {},
   "source": [
    "## Key Components"
   ]
  },
  {
   "cell_type": "markdown",
   "metadata": {},
   "source": [
    "### Metrics\n",
    "\n",
    "The choice of metric depends on the specific task and desired evaluation criteria. However, one can categorize metrics into two broad categories: **intrinsic** and **extrinsic**:\n",
    "\n",
    "* **Intrinsic metrics** focus on the model's performance on its primary training objective, which is typically to predict the next token in a sequence.  Perplexity is a common intrinsic metric that measures how well the model predicts a given sample of text.\n",
    "\n",
    "* **Extrinsic metrics** assess the model's performance on various downstream tasks, which can range from question answering to code generation.  These metrics are not directly tied to the training objective, but they provide valuable insights into the model's ability to generalise to real-world applications.\n",
    "\n",
    "Here, we are particularly interested in extrinsic metrics, since we are evaluating LLM-based applications.\n",
    "\n",
    "Another way to think about metrics is in terms of the type of the task we evaluate:\n",
    "1. **Discriminative Task**:\n",
    "   - Involves distinguishing or classifying between existing data points.\n",
    "   - Examples: Sentiment analysis, classification, or identifying whether a statement is true or false.\n",
    "2. **Generative Task**:\n",
    "   - Involves creating or producing new data or outputs.\n",
    "   - Examples: Text generation, image synthesis, or summarization.\n",
    "\n",
    "For discriminative LLM-based applications may produce log-probabilities or discrete predictions, traditional machine learning metrics like accuracy, precision, recall, and F1 score can be applied. However, generative tasks may output text or images which require different evaluation approaches.\n",
    "\n",
    "For generative tasks, a range of specialized metrics should be considered. These include match-based metrics such as exact match and prefix match, as well as metrics designed specifically for tasks like summarization and translation, including ROUGE, BLEU, and character n-gram comparisons. The selection of appropriate metrics should align with the specific requirements and characteristics of the task being evaluated. A detailed discussion of metric selection guidelines will be provided in a subsequent section.\n",
    "\n",
    "\n",
    "In {numref}`key-metrics` we provide a short list of widely used extrinsic metrics that can be used to evaluate generative tasks of LLM-based applications, along with their definitions, use cases, and limitations.\n",
    "\n",
    "```{table} Key Metrics for Evaluating Generative Tasks\n",
    ":name: key-metrics\n",
    "| Metric | Definition | Use Case | Limitations |\n",
    "|--------|------------|----------|-------------|\n",
    "| **BLEU (Bilingual Evaluation Understudy)** | Measures overlap of n-grams between generated text and reference text | Machine translation and text summarization | - Favors short outputs due to brevity penalty<br>- Insensitive to semantic meaning<br>- Requires high-quality reference texts |\n",
    "| **ROUGE (Recall-Oriented Understudy for Gisting Evaluation)** | Measures overlap between n-grams, words, or sentences of generated text and references, focusing on recall | Text summarization tasks | - Biases toward long outputs<br>- Ignores semantic equivalence<br>- Heavily influenced by reference quality |\n",
    "| **METEOR (Metric for Evaluation of Translation with Explicit ORdering)** | Considers synonyms, stemming, and paraphrases alongside n-gram overlap | Machine translation, where semantic equivalence matters | - Computationally expensive<br>- Subjective design of synonym/stemming databases |\n",
    "| **CIDEr (Consensus-based Image Description Evaluation)** | Measures n-gram overlap weighted by TF-IDF, tailored for image captioning | Image caption generation | - Limited applicability outside captioning<br>- Heavily reliant on corpus statistics |\n",
    "| **TER (Translation Edit Rate)** | Computes number of edits needed to convert hypothesis into reference text | Translation quality evaluation | - Doesn't consider semantic correctness<br>- Penalizes valid paraphrasing |\n",
    "| **BERTScore** | Uses contextual embeddings from pre-trained BERT to calculate token similarity | Tasks requiring semantic equivalence | - High computational cost<br>- Performance varies with model used |\n",
    "| **SPICE (Semantic Propositional Image Caption Evaluation)** | Focuses on scene graphs in image captions to evaluate semantic content | Image captioning with emphasis on semantic accuracy | - Designed only for image captions<br>- Less effective in purely textual tasks |\n",
    "```"
   ]
  },
  {
   "cell_type": "markdown",
   "metadata": {},
   "source": [
    "#### Example: BLEU and ROUGE for SEC Filing Summarization\n",
    "\n",
    "When working with SEC filings, you may want to evaluate the quality of summaries or extracted key sections against reference summaries (e.g., analyst-prepared highlights). Below is a Python example demonstrating BLEU and ROUGE score computations tailored for this scenario.\n",
    "\n",
    "\n",
    "**Reference Summary**: Represents the ideal summary, typically prepared by analysts or human experts.\n"
   ]
  },
  {
   "cell_type": "markdown",
   "metadata": {},
   "source": [
    "```bash\n",
    "pip install evaluate absl-py rouge_score\n",
    "```"
   ]
  },
  {
   "cell_type": "code",
   "execution_count": 1,
   "metadata": {},
   "outputs": [
    {
     "name": "stderr",
     "output_type": "stream",
     "text": [
      "/home/tobias/src/tamingLLMs/tamingllms/.venv/lib/python3.12/site-packages/tqdm/auto.py:21: TqdmWarning: IProgress not found. Please update jupyter and ipywidgets. See https://ipywidgets.readthedocs.io/en/stable/user_install.html\n",
      "  from .autonotebook import tqdm as notebook_tqdm\n"
     ]
    }
   ],
   "source": [
    "import evaluate\n",
    "\n",
    "reference_summary = \"\"\"\n",
    "The company's revenue grew by 15% year-over-year, with the software business being the key driver.\n",
    "Higher expenses impacted net income, but there was still a slight improvement.\n",
    "\"\"\""
   ]
  },
  {
   "cell_type": "markdown",
   "metadata": {},
   "source": [
    " **Generated Summary**: Could be extracted from the SEC filing using an automated system or a summarization algorithm."
   ]
  },
  {
   "cell_type": "code",
   "execution_count": null,
   "metadata": {},
   "outputs": [],
   "source": [
    "# Example: Generated summary from the SEC filing vs. Reference summary\n",
    "generated_summary = \"\"\"\n",
    "The company reported a 15% increase in revenue compared to the previous year, primarily driven by growth in its software segment.\n",
    "Net income also saw a marginal rise despite higher operating expenses.\n",
    "\"\"\""
   ]
  },
  {
   "cell_type": "markdown",
   "metadata": {},
   "source": [
    "Evaluate the example summaries"
   ]
  },
  {
   "cell_type": "code",
   "execution_count": 15,
   "metadata": {},
   "outputs": [],
   "source": [
    "import evaluate\n",
    "def evaluate_summaries(generated_summary, reference_summary):\n",
    "    \"\"\"\n",
    "    Evaluate generated summaries against reference summaries using multiple metrics.\n",
    "    \n",
    "    Args:\n",
    "        generated_summary (str): The summary generated by the model\n",
    "        reference_summary (str): The reference/ground truth summary\n",
    "        \n",
    "    Returns:\n",
    "        dict: Dictionary containing scores for different metrics\n",
    "    \"\"\"\n",
    "    # Initialize metrics\n",
    "    bleu = evaluate.load(\"google_bleu\")\n",
    "    rouge = evaluate.load(\"rouge\")\n",
    "    \n",
    "    # Format inputs for BLEU (expects list of str for predictions and list of list of str for references)\n",
    "    predictions = [generated_summary]\n",
    "    references = [reference_summary]\n",
    "    \n",
    "    # Compute BLEU score\n",
    "    bleu_score = bleu.compute(predictions=predictions, references=[references])\n",
    "    \n",
    "    # Compute ROUGE scores\n",
    "    rouge_score = rouge.compute(predictions=predictions, references=references)\n",
    "    \n",
    "    # Compute Character metric    \n",
    "    # Combine all scores into a single dictionary\n",
    "    scores = {\n",
    "        'bleu': bleu_score[\"google_bleu\"],\n",
    "        'rouge1': rouge_score['rouge1'],\n",
    "        'rouge2': rouge_score['rouge2']\n",
    "    }\n",
    "    \n",
    "    return scores"
   ]
  },
  {
   "cell_type": "code",
   "execution_count": 16,
   "metadata": {},
   "outputs": [
    {
     "data": {
      "text/plain": [
       "{'bleu': 0.3333333333333333,\n",
       " 'rouge1': 0.7272727272727272,\n",
       " 'rouge2': 0.4444444444444445}"
      ]
     },
     "execution_count": 16,
     "metadata": {},
     "output_type": "execute_result"
    }
   ],
   "source": [
    "sentence1 = \"the cat sat on the mat\"\n",
    "sentence2 = \"the cat ate the mat\"\n",
    "evaluate_summaries(sentence1, sentence2)\n"
   ]
  },
  {
   "cell_type": "code",
   "execution_count": 24,
   "metadata": {},
   "outputs": [],
   "source": [
    "\n",
    "def visualize_prompt_comparison(evaluation_results, model_names):\n",
    "    \"\"\"\n",
    "    Create a radar plot comparing different prompt variations\n",
    "    \n",
    "    Args:\n",
    "        evaluation_results (list): List of dictionaries containing evaluation metrics\n",
    "        model_names (list): List of names for each prompt variation\n",
    "    \"\"\"\n",
    "    from evaluate.visualization import radar_plot\n",
    "    \n",
    "    # Format data for visualization\n",
    "    plot = radar_plot(data=evaluation_results, model_names=model_names)\n",
    "    return plot\n"
   ]
  },
  {
   "cell_type": "code",
   "execution_count": 25,
   "metadata": {},
   "outputs": [],
   "source": [
    "from openai import OpenAI\n",
    "client = OpenAI()\n",
    "\n",
    "def generate_summary(model, prompt, input):\n",
    "    response = client.chat.completions.create(\n",
    "    model=model,\n",
    "        messages=[{\"role\": \"system\", \"content\": prompt},\n",
    "                 {\"role\": \"user\", \"content\": input}]\n",
    "    )\n",
    "    return response.choices[0].message.content"
   ]
  },
  {
   "cell_type": "code",
   "execution_count": 17,
   "metadata": {},
   "outputs": [],
   "source": [
    "MAX_LENGTH = 10000 # We limit the input length to avoid token issues\n",
    "with open('../data/apple.txt', 'r') as file:\n",
    "    sec_filing = file.read()\n",
    "sec_filing = sec_filing[:MAX_LENGTH] "
   ]
  },
  {
   "cell_type": "code",
   "execution_count": 18,
   "metadata": {},
   "outputs": [
    {
     "data": {
      "text/plain": [
       "True"
      ]
     },
     "execution_count": 18,
     "metadata": {},
     "output_type": "execute_result"
    }
   ],
   "source": [
    "from dotenv import load_dotenv\n",
    "import os\n",
    "\n",
    "# Load environment variables from .env file\n",
    "load_dotenv(override=True)"
   ]
  },
  {
   "cell_type": "code",
   "execution_count": 21,
   "metadata": {},
   "outputs": [],
   "source": []
  },
  {
   "cell_type": "code",
   "execution_count": 26,
   "metadata": {},
   "outputs": [],
   "source": [
    "TASK = \"Generate a 1-liner summary of the following excerpt from an SEC filing.\"\n",
    "\n",
    "prompt = f\"\"\"\n",
    "ROLE: You are an expert analyst tasked with summarizing SEC filings.\n",
    "TASK: {TASK}\n",
    "\"\"\""
   ]
  },
  {
   "cell_type": "code",
   "execution_count": 27,
   "metadata": {},
   "outputs": [],
   "source": [
    "model_benchmark = \"gpt-4o\"\n",
    "models_test = [\"gpt-4o-mini\", \"gpt-4-turbo\", \"gpt-3.5-turbo\"]"
   ]
  },
  {
   "cell_type": "code",
   "execution_count": 30,
   "metadata": {},
   "outputs": [
    {
     "data": {
      "text/plain": [
       "\"Apple Inc.'s 10-K filing for the fiscal year ending September 28, 2024, outlines its operational and financial condition, detailing the company's diverse product lines, market activities, and compliance with SEC requirements.\""
      ]
     },
     "execution_count": 30,
     "metadata": {},
     "output_type": "execute_result"
    }
   ],
   "source": [
    "generate_summary(model_benchmark, prompt, sec_filing)\n"
   ]
  },
  {
   "cell_type": "code",
   "execution_count": 36,
   "metadata": {},
   "outputs": [],
   "source": [
    "def evaluate_summary_models(model_benchmark, models_test, prompt, input):\n",
    "    \"\"\"\n",
    "    Evaluate summaries generated by multiple models\n",
    "    \"\"\"\n",
    "    benchmark_summary = generate_summary(model_benchmark, prompt, input)\n",
    "\n",
    "    # Generate summaries for all test models using list comprehension\n",
    "    model_summaries = [generate_summary(model, prompt, input) for model in models_test]\n",
    "    \n",
    "    # Evaluate each model's summary against the benchmark\n",
    "    evaluation_results = [evaluate_summaries(summary, benchmark_summary) for summary in model_summaries]\n",
    "\n",
    "    return [evaluation_results, model_summaries]"
   ]
  },
  {
   "cell_type": "code",
   "execution_count": 37,
   "metadata": {},
   "outputs": [],
   "source": [
    "evals, model_summaries = evaluate_summary_models(model_benchmark, models_test, prompt, sec_filing)"
   ]
  },
  {
   "cell_type": "code",
   "execution_count": 46,
   "metadata": {},
   "outputs": [
    {
     "name": "stdout",
     "output_type": "stream",
     "text": [
      "gpt-4o-mini: \n",
      " Apple Inc. filed its Annual Report on Form 10-K for the fiscal year ending September 28, 2024, detailing its business operations, risks, and financial condition. \n",
      "---------------\n",
      "gpt-4-turbo: \n",
      " Apple Inc.'s Form 10-K for the fiscal year ended September 28, 2024, details its annual report as a well-known seasoned issuer, confirming compliance with SEC regulations and reporting on stock performances, securities, and corporate governance, while also including forward-looking statements subject to various risks. \n",
      "---------------\n",
      "gpt-3.5-turbo: \n",
      " Apple Inc. filed its Form 10-K with the SEC, revealing financial information for the fiscal year ended September 28, 2024, including details on its products and market performance. \n",
      "---------------\n"
     ]
    }
   ],
   "source": [
    "# Print each model name and its summary\n",
    "for model, summary in zip(models_test, model_summaries):\n",
    "    print(f\"{model}: \\n {summary} \\n---------------\")\n",
    "\n"
   ]
  },
  {
   "cell_type": "markdown",
   "metadata": {},
   "source": [
    "The benchmark summary from gpt-4o provides a balanced overview of Apple's 10-K filing, focusing on operational status, financial condition, product lines, and regulatory compliance.\n",
    "\n",
    "- `gpt-4o-mini` demonstrates superior performance with a concise yet comprehensive summary that closely aligns with the benchmark's core message. While it omits product lines, it effectively captures the essential elements of the filing including business operations, risks, and financial condition. Its brevity and focus make it the most effective of the test models.\n",
    "\n",
    "- `gpt-4-turbo` performs adequately but tends toward verbosity. While it includes relevant information about SEC compliance, it introduces peripheral details about seasoned issuer status and forward-looking statements that, while accurate, dilute the core message. The additional complexity makes the summary less focused than gpt-4o-mini's version.\n",
    "\n",
    "- `gpt-3.5-turbo` shows the most room for improvement. Its summary, while factually correct, is overly simplified and misses key aspects of the filing. The model captures basic financial information but fails to convey the breadth of operational and compliance details present in the benchmark summary."
   ]
  },
  {
   "cell_type": "markdown",
   "metadata": {},
   "source": [
    "```bash\n",
    "pip install matplotlib\n",
    "```"
   ]
  },
  {
   "cell_type": "code",
   "execution_count": 35,
   "metadata": {},
   "outputs": [
    {
     "name": "stderr",
     "output_type": "stream",
     "text": [
      "/tmp/ipykernel_1652501/940173201.py:3: UserWarning: FigureCanvasAgg is non-interactive, and thus cannot be shown\n",
      "  plot.show()\n"
     ]
    },
    {
     "data": {
      "image/png": "[encoded data removed]",
      "text/plain": [
       "<Figure size 640x480 with 4 Axes>"
      ]
     },
     "metadata": {},
     "output_type": "display_data"
    }
   ],
   "source": [
    "# Create and display visualization\n",
    "plot = visualize_prompt_comparison(evals, models_test)\n",
    "plot.show()"
   ]
  },
  {
   "cell_type": "markdown",
   "metadata": {},
   "source": [
    "The evaluation metrics confirm this ranking, with gpt-4o-mini achieving the closest semantic alignment to the benchmark, followed by gpt-4-turbo, and gpt-3.5-turbo showing the largest deviation. While evaluating language model outputs inherently involves subjective judgment, establishing a high-quality benchmark model and using quantifiable metrics like BLEU and ROUGE scores provides a more objective framework for comparing model performance. This approach transforms an otherwise qualitative assessment into a measurable, data-driven evaluation process."
   ]
  },
  {
   "cell_type": "markdown",
   "metadata": {},
   "source": [
    "\n",
    "#### Considerations\n",
    "\n",
    "While these metrics provide quantifiable measures of performance, they have limitations:\n",
    "\n",
    "*   **Task-specific nature**:  Metrics like accuracy might not fully capture the nuances of complex tasks, especially those involving subjective human judgment.\n",
    "*   **Sensitivity to data distribution**: Performance on these metrics can be influenced by the specific dataset used for evaluation, which might not represent real-world data distribution.\n",
    "*   **Inability to assess reasoning or factual accuracy**: These metrics primarily focus on surface-level matching and might not reveal the underlying reasoning process of the LLM or its ability to generate factually correct information.\n",
    "\n",
    "In conclusion, selecting the appropriate extrinsic metric depends on the specific NLP task and desired evaluation granularity.  Understanding the limitations of these metrics and considering alternative approaches like human evaluation can provide a more comprehensive assessment of LLM performance in real-world applications.\n",
    "\n",
    "To address these limitations, alternative approaches like **human evaluation** and **model-based evaluation** are often used, which will be discussed in the following sections.\n",
    "\n"
   ]
  },
  {
   "cell_type": "markdown",
   "metadata": {},
   "source": [
    "### Evaluator\n",
    "\n",
    "#### Model-based Evaluation\n",
    "\n",
    "#### Human Evaluation\n",
    "\n",
    "Human assessors can judge aspects like fluency, coherence, and factual accuracy, providing a more comprehensive evaluation. However, human evaluation can be subjective and resource-intensive.\n"
   ]
  },
  {
   "cell_type": "markdown",
   "metadata": {},
   "source": [
    "### Leaderboard\n",
    "\n",
    "Benchmark datasets provide a standardised way to evaluate the performance of LLMs on a variety of downstream tasks. Some popular benchmark datasets include:\n",
    "\n",
    "* **GLUE (General Language Understanding Evaluation)**: A collection of diverse natural language understanding tasks, such as sentiment analysis, question answering, and textual entailment. GLUE scores provide a holistic view of a model's language understanding capabilities.\n",
    "* **SuperGLUE**: A successor to GLUE with more challenging tasks designed to push the boundaries of language understanding.\n",
    "* **BIG-bench**: A collaborative benchmark with a wide range of tasks, encompassing language modeling, reasoning, and common sense.\n",
    "* **HELM (Holistic Evaluation of Language Models)**: A comprehensive evaluation framework that considers multiple factors, including accuracy, robustness, fairness, and efficiency.\n",
    "* **FLASK**: A benchmark focused on evaluating the factual accuracy and consistency of language models.\n",
    "\n",
    "* **Massive Multitask Language Understanding (MMLU):** This benchmark tests a model's knowledge and reasoning abilities across 57 subjects, including STEM, humanities, and social sciences.\n",
    "* **HumanEval:** This dataset evaluates code generation capabilities by asking a model to write code based on a given description.\n",
    "* **LiveBench:**  This benchmark attempts to mitigate the problem of data contamination by releasing new questions monthly. \n",
    "\n",
    "However, benchmark datasets have limitations.  It can be difficult to prevent data from the benchmarks leaking into the training data, which can inflate the model's performance.  Additionally, some benchmarks may contain incorrect answers or ambiguous questions.  It's also important to remember that benchmark performance does not always translate directly to real-world performance."
   ]
  },
  {
   "cell_type": "markdown",
   "metadata": {},
   "source": [
    "## Tools"
   ]
  },
  {
   "cell_type": "markdown",
   "metadata": {},
   "source": [
    "## References\n",
    "```{bibliography}\n",
    ":filter: docname in docnames\n",
    "```"
   ]
  },
  {
   "cell_type": "markdown",
   "metadata": {},
   "source": []
  }
 ],
 "metadata": {
  "kernelspec": {
   "display_name": "Python 3",
   "language": "python",
   "name": "python3"
  },
  "language_info": {
   "codemirror_mode": {
    "name": "ipython",
    "version": 3
   },
   "file_extension": ".py",
   "mimetype": "text/x-python",
   "name": "python",
   "nbconvert_exporter": "python",
   "pygments_lexer": "ipython3",
   "version": "3.12.3"
  }
 },
 "nbformat": 4,
 "nbformat_minor": 2
}